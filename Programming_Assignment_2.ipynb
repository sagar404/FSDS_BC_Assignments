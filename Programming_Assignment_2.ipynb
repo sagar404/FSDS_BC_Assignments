{
 "cells": [
  {
   "cell_type": "code",
   "execution_count": 17,
   "metadata": {},
   "outputs": [],
   "source": [
    "#1. Write a Python program to convert kilometers to miles?\n",
    "\n",
    "def km_to_mile(kilometers):\n",
    "\n",
    "    try:\n",
    "        if kilometers < 0:\n",
    "            raise Exception(\"Kilometer can not be in negative, please try again\")\n",
    "        else:\n",
    "            km_to_miles = kilometers * 0.6214\n",
    "            return f'{kilometers}km is equal to {km_to_miles} miles'\n",
    "    except Exception as e:\n",
    "        return f'Error : {e}'\n"
   ]
  },
  {
   "cell_type": "code",
   "execution_count": 20,
   "metadata": {},
   "outputs": [
    {
     "data": {
      "text/plain": [
       "'1km is equal to 0.6214 miles'"
      ]
     },
     "execution_count": 20,
     "metadata": {},
     "output_type": "execute_result"
    }
   ],
   "source": [
    "km_to_mile(1)"
   ]
  },
  {
   "cell_type": "code",
   "execution_count": 40,
   "metadata": {},
   "outputs": [],
   "source": [
    "#2. Write a Python program to convert Celsius to Fahrenheit?\n",
    "\n",
    "def cel_to_fer(celsius):\n",
    "    try:\n",
    "        if type(celsius) != float:\n",
    "            raise Exception(\"Input is not a floating point number, please try again\")\n",
    "        else:\n",
    "            cel_to_fer = celsius * 9/5 + 32\n",
    "            return f'{celsius} degree celsius is equal to {cel_to_fer} fahrenheit'\n",
    "    except Exception as e:\n",
    "        return f'Error: {e}'"
   ]
  },
  {
   "cell_type": "code",
   "execution_count": 41,
   "metadata": {},
   "outputs": [
    {
     "data": {
      "text/plain": [
       "'6.0 degree celsius is equal to 42.8 fahrenheit'"
      ]
     },
     "execution_count": 41,
     "metadata": {},
     "output_type": "execute_result"
    }
   ],
   "source": [
    "cel_to_fer(6.0)"
   ]
  },
  {
   "cell_type": "code",
   "execution_count": 48,
   "metadata": {},
   "outputs": [
    {
     "name": "stdout",
     "output_type": "stream",
     "text": [
      "      May 2022\n",
      "Mo Tu We Th Fr Sa Su\n",
      "                   1\n",
      " 2  3  4  5  6  7  8\n",
      " 9 10 11 12 13 14 15\n",
      "16 17 18 19 20 21 22\n",
      "23 24 25 26 27 28 29\n",
      "30 31\n",
      "\n"
     ]
    }
   ],
   "source": [
    "#3. Write a Python program to display calendar?\n",
    "\n",
    "import calendar\n",
    "\n",
    "#taking user input\n",
    "yyyy = int(input('Enter year'))\n",
    "mm = int(input('Enter month'))\n",
    "\n",
    "\n",
    "#display calendar\n",
    "show_calendar = calendar.month(yyyy, mm)\n",
    "print(show_calendar)"
   ]
  },
  {
   "cell_type": "code",
   "execution_count": 49,
   "metadata": {},
   "outputs": [
    {
     "name": "stdout",
     "output_type": "stream",
     "text": [
      " real and different roots \n",
      "2.0\n",
      "-12.0\n"
     ]
    }
   ],
   "source": [
    "#4. Write a Python program to solve quadratic equation?\n",
    "\n",
    "import math \n",
    "  \n",
    "  \n",
    "# function for finding roots\n",
    "def equationroots( a, b, c): \n",
    "  \n",
    "    # calculating discriminant using formula\n",
    "    dis = b * b - 4 * a * c \n",
    "    sqrt_val = math.sqrt(abs(dis)) \n",
    "      \n",
    "    # checking condition for discriminant\n",
    "    if dis > 0: \n",
    "        print(\" real and different roots \") \n",
    "        print((-b + sqrt_val)/(2 * a)) \n",
    "        print((-b - sqrt_val)/(2 * a)) \n",
    "      \n",
    "    elif dis == 0: \n",
    "        print(\" real and same roots\") \n",
    "        print(-b / (2 * a)) \n",
    "      \n",
    "    # when discriminant is less than 0\n",
    "    else:\n",
    "        print(\"Complex Roots\") \n",
    "        print(- b / (2 * a), \" + i\", sqrt_val) \n",
    "        print(- b / (2 * a), \" - i\", sqrt_val) \n",
    "  \n",
    "# Driver Program \n",
    "a = 1\n",
    "b = 10\n",
    "c = -24\n",
    "  \n",
    "# If a is 0, then incorrect equation\n",
    "if a == 0: \n",
    "        print(\"Input correct quadratic equation\") \n",
    "  \n",
    "else:\n",
    "    equationroots(a, b, c)\n"
   ]
  },
  {
   "cell_type": "code",
   "execution_count": 50,
   "metadata": {},
   "outputs": [],
   "source": [
    "#5. Write a Python program to swap two variables without temp variable?\n",
    "\n",
    "x = 15\n",
    "y = 20\n",
    "\n",
    "x,y = y,x "
   ]
  },
  {
   "cell_type": "code",
   "execution_count": 51,
   "metadata": {},
   "outputs": [
    {
     "data": {
      "text/plain": [
       "20"
      ]
     },
     "execution_count": 51,
     "metadata": {},
     "output_type": "execute_result"
    }
   ],
   "source": [
    "x"
   ]
  },
  {
   "cell_type": "code",
   "execution_count": 52,
   "metadata": {},
   "outputs": [
    {
     "data": {
      "text/plain": [
       "15"
      ]
     },
     "execution_count": 52,
     "metadata": {},
     "output_type": "execute_result"
    }
   ],
   "source": [
    "y"
   ]
  },
  {
   "cell_type": "code",
   "execution_count": null,
   "metadata": {},
   "outputs": [],
   "source": []
  }
 ],
 "metadata": {
  "kernelspec": {
   "display_name": "Python 3.8.10 64-bit",
   "language": "python",
   "name": "python3"
  },
  "language_info": {
   "codemirror_mode": {
    "name": "ipython",
    "version": 3
   },
   "file_extension": ".py",
   "mimetype": "text/x-python",
   "name": "python",
   "nbconvert_exporter": "python",
   "pygments_lexer": "ipython3",
   "version": "3.8.10"
  },
  "orig_nbformat": 4,
  "vscode": {
   "interpreter": {
    "hash": "e7370f93d1d0cde622a1f8e1c04877d8463912d04d973331ad4851f04de6915a"
   }
  }
 },
 "nbformat": 4,
 "nbformat_minor": 2
}
