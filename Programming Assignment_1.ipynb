{
 "cells": [
  {
   "cell_type": "code",
   "execution_count": 2,
   "metadata": {},
   "outputs": [
    {
     "name": "stdout",
     "output_type": "stream",
     "text": [
      "Hello Python\n"
     ]
    }
   ],
   "source": [
    "#1. Write a Python program to print \"Hello Python\"?\n",
    "\n",
    "print(\"Hello Python\")\n"
   ]
  },
  {
   "cell_type": "code",
   "execution_count": 40,
   "metadata": {},
   "outputs": [],
   "source": [
    "#2. Write a Python program to do arithmetical operations addition and division.?\n",
    "\n",
    "\n",
    "def arith(num1, num2, operation = \"addition\"):\n",
    "    '''\n",
    "    This function will perform addition or division operation between num1 and num2\n",
    "\n",
    "    num1 : Integer number input 1 \n",
    "    num2 : Integer number input 2\n",
    "    operation : addition or division \n",
    "\n",
    "    '''\n",
    "\n",
    "    try:\n",
    "        if type(num1) == int and type(num2) == int:\n",
    "            if operation == 'addition':\n",
    "                addition = num1 + num2\n",
    "                return addition\n",
    "\n",
    "            elif operation == 'division':\n",
    "                try :\n",
    "                    division = num1/num2\n",
    "                    return int(division)\n",
    "\n",
    "                except Exception as e:\n",
    "                    print(f'{e} is not allowed in core python \\nplease try to call function again!')\n",
    "            else:\n",
    "                return \"Invalid argument key, operation : addition or division\"\n",
    "        else:\n",
    "            return \"Enterd number is not an integer\"\n",
    "    except Exception as e:\n",
    "             return e\n"
   ]
  },
  {
   "cell_type": "code",
   "execution_count": 5,
   "metadata": {},
   "outputs": [
    {
     "name": "stdout",
     "output_type": "stream",
     "text": [
      "height should be positive, please enter a positive integer\n",
      "Area of Traingle is 12.5\n"
     ]
    }
   ],
   "source": [
    "#3. Write a Python program to find the area of a triangle?\n",
    "\n",
    "while True:\n",
    "        base = int(input('Enter the base of traingle'))\n",
    "        height = int(input('Enter the height of traingle'))\n",
    "        if base > 0 and height > 0:\n",
    "            area_Of_traingle = (height*base)/2\n",
    "            print(f'Area of Traingle is {area_Of_traingle}')\n",
    "            break\n",
    "        else:\n",
    "            if base < 0:\n",
    "                print('base should be positive, please enter a positive integer') \n",
    "            elif height < 0:\n",
    "                print('height should be positive, please enter a positive integer' )\n",
    "    \n",
    "\n"
   ]
  },
  {
   "cell_type": "markdown",
   "metadata": {},
   "source": []
  },
  {
   "cell_type": "code",
   "execution_count": 14,
   "metadata": {},
   "outputs": [],
   "source": [
    "#4. Write a Python program to swap two variables?\n",
    "\n",
    "x= 5 \n",
    "y = 10\n",
    "\n",
    "temp = x\n",
    "x = y\n",
    "y = temp"
   ]
  },
  {
   "cell_type": "code",
   "execution_count": 29,
   "metadata": {},
   "outputs": [],
   "source": [
    "#5. Write a Python program to generate a random number?\n",
    "\n",
    "import random\n",
    "\n",
    "def ran_num(num1, num2):\n",
    "\n",
    "    ''' This function will generate a random number\n",
    "\n",
    "    num1 : start \n",
    "    num 2 : end \n",
    "    '''\n",
    "    \n",
    "    try:\n",
    "        ran_num = random.randint(num1,num2)\n",
    "        print(ran_num)\n",
    "    except Exception as e:\n",
    "        print(f'Error : {e}')\n",
    "\n",
    "\n",
    "\n"
   ]
  }
 ],
 "metadata": {
  "kernelspec": {
   "display_name": "Python 3.8.10 64-bit",
   "language": "python",
   "name": "python3"
  },
  "language_info": {
   "codemirror_mode": {
    "name": "ipython",
    "version": 3
   },
   "file_extension": ".py",
   "mimetype": "text/x-python",
   "name": "python",
   "nbconvert_exporter": "python",
   "pygments_lexer": "ipython3",
   "version": "3.8.10"
  },
  "orig_nbformat": 4,
  "vscode": {
   "interpreter": {
    "hash": "e7370f93d1d0cde622a1f8e1c04877d8463912d04d973331ad4851f04de6915a"
   }
  }
 },
 "nbformat": 4,
 "nbformat_minor": 2
}
