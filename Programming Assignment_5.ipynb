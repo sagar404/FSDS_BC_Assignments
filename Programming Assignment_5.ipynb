{
 "cells": [
  {
   "cell_type": "code",
   "execution_count": 7,
   "metadata": {},
   "outputs": [
    {
     "data": {
      "text/plain": [
       "216"
      ]
     },
     "execution_count": 7,
     "metadata": {},
     "output_type": "execute_result"
    }
   ],
   "source": [
    "#1. Write a Python Program to Find LCM?\n",
    "\n",
    "'''\n",
    "The abbreviation LCM stands for 'Least Common Multiple'. \n",
    "The least common multiple (LCM) of two numbers is the lowest possible number that can be divisible by both numbers.\n",
    "\n",
    "'''\n",
    "def find_lcm(num1,num2):\n",
    "\n",
    "   # choose the greater number\n",
    "   if num1 > num2:\n",
    "       greater = num1\n",
    "   else:\n",
    "       greater = num2\n",
    "\n",
    "   while(True):\n",
    "       if((greater % num1 == 0) and (greater % num2 == 0)):\n",
    "           lcm = greater\n",
    "           break\n",
    "       greater += 1\n",
    "\n",
    "   return lcm\n",
    "\n",
    "find_lcm(54,24)"
   ]
  },
  {
   "cell_type": "code",
   "execution_count": 2,
   "metadata": {},
   "outputs": [
    {
     "name": "stdout",
     "output_type": "stream",
     "text": [
      "The H.C.F. is 1\n"
     ]
    }
   ],
   "source": [
    "#2. Write a Python Program to Find HCF?\n",
    "\n",
    "'''\n",
    " In Maths, HCF means the Highest Common Factor. When finding the factors of two or more numbers, some numbers are found to be common.\n",
    "\n",
    "'''\n",
    "def find_hcf(x, y):\n",
    "\n",
    "# choose the smaller number\n",
    "    if x > y:\n",
    "        smaller = y\n",
    "    else:\n",
    "        smaller = x\n",
    "    for i in range(1, smaller+1):\n",
    "        if((x % i == 0) and (y % i == 0)):\n",
    "            hcf = i \n",
    "    return hcf\n",
    "\n",
    "print(\"The H.C.F. is\", find_hcf(54, 29))\n",
    "\n",
    "\n"
   ]
  },
  {
   "cell_type": "code",
   "execution_count": 9,
   "metadata": {},
   "outputs": [
    {
     "name": "stdout",
     "output_type": "stream",
     "text": [
      "The decimal value of 555 is\n",
      "0b1000101011 in binary.\n",
      "0o1053 in octal.\n",
      "0x22b in hexadecimal.\n"
     ]
    }
   ],
   "source": [
    "#3 Write a Python Program to Convert Decimal to Binary, Octal and Hexadecimal?\n",
    "\n",
    "#Decimal value \n",
    "dec = int(input(\"Enter a decimal\"))\n",
    "\n",
    "print(\"The decimal value of\", dec, \"is\")\n",
    "\n",
    "#Decimal to Binary \n",
    "print(bin(dec), \"in binary.\")\n",
    "#Decimal to Octal\n",
    "print(oct(dec), \"in octal.\")\n",
    "#Decimal to Hexadecimal\n",
    "print(hex(dec), \"in hexadecimal.\")\n"
   ]
  },
  {
   "cell_type": "code",
   "execution_count": 16,
   "metadata": {},
   "outputs": [
    {
     "name": "stdout",
     "output_type": "stream",
     "text": [
      "The ASCII value of s character is 115\n"
     ]
    }
   ],
   "source": [
    "#4 Write a Python Program To Find ASCII value of a character?\n",
    "\n",
    "ascii_value = input(\"Enter the ASCII code:\")\n",
    "\n",
    "print (\"The ASCII value of {0} character is {1}\".format(ascii_value,ord(ascii_value)))"
   ]
  },
  {
   "cell_type": "code",
   "execution_count": 27,
   "metadata": {},
   "outputs": [
    {
     "name": "stdout",
     "output_type": "stream",
     "text": [
      "5 + 8 = 13\n"
     ]
    }
   ],
   "source": [
    "#5 Write a Python Program to Make a Simple Calculator with 4 basic mathematical operations?\n",
    "\n",
    "num1 = int(input(\"Enter the first number :\"))\n",
    "num2 = int(input(\"Enter the second number :\"))\n",
    "\n",
    "operation = input(\"Select the Opetarion(+,-,*,//)\")\n",
    "try:\n",
    "    #Addition\n",
    "    if operation == '+':\n",
    "        addition = num1 + num2\n",
    "        print(f\"{num1} + {num2} = {addition}\")\n",
    "\n",
    "    #Subtraction   \n",
    "    elif operation == '-':\n",
    "        sub = num1 - num2\n",
    "        print(f\"{num1} - {num2} = {sub}\")\n",
    "    \n",
    "    #Multiplication \n",
    "    elif operation == '*':\n",
    "        mul = num1 * num2\n",
    "        print(f\"{num1} * {num2} = {mul}\")\n",
    "    \n",
    "    #Division\n",
    "    elif operation == '//':\n",
    "        div = num1//num2\n",
    "        print(f\"{num1} // {num2} = {div}\")\n",
    "except Exception as e:\n",
    "    print(f\"Error : {e}\")\n"
   ]
  }
 ],
 "metadata": {
  "kernelspec": {
   "display_name": "Python 3.8.10 64-bit",
   "language": "python",
   "name": "python3"
  },
  "language_info": {
   "codemirror_mode": {
    "name": "ipython",
    "version": 3
   },
   "file_extension": ".py",
   "mimetype": "text/x-python",
   "name": "python",
   "nbconvert_exporter": "python",
   "pygments_lexer": "ipython3",
   "version": "3.8.10"
  },
  "orig_nbformat": 4,
  "vscode": {
   "interpreter": {
    "hash": "e7370f93d1d0cde622a1f8e1c04877d8463912d04d973331ad4851f04de6915a"
   }
  }
 },
 "nbformat": 4,
 "nbformat_minor": 2
}
