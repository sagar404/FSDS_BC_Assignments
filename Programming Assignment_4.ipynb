{
 "cells": [
  {
   "cell_type": "code",
   "execution_count": 17,
   "metadata": {},
   "outputs": [
    {
     "name": "stdout",
     "output_type": "stream",
     "text": [
      "factorial of 5 is 120\n"
     ]
    }
   ],
   "source": [
    "#1. Write a Python Program to Find the Factorial of a Number?\n",
    "\n",
    "'''\n",
    "In mathematics, the factorial of a non-negative integer n, denoted by n!, is the product of all positive integers less than or equal to n.\n",
    "    \n",
    "'''\n",
    "\n",
    "#user input number \n",
    "number = 5\n",
    "\n",
    "#incremental varibale\n",
    "j = 1\n",
    "\n",
    "#Calculating the factorial\n",
    "for i in range(number,0,-1):\n",
    "    j =  j * i\n",
    "\n",
    "print(\"factorial of {0} is {1}\".format(number,j))\n",
    "\n"
   ]
  },
  {
   "cell_type": "code",
   "execution_count": 6,
   "metadata": {},
   "outputs": [
    {
     "name": "stdout",
     "output_type": "stream",
     "text": [
      "9 x 1 = 9\n",
      "9 x 2 = 18\n",
      "9 x 3 = 27\n",
      "9 x 4 = 36\n",
      "9 x 5 = 45\n",
      "9 x 6 = 54\n",
      "9 x 7 = 63\n",
      "9 x 8 = 72\n",
      "9 x 9 = 81\n",
      "9 x 10 = 90\n"
     ]
    }
   ],
   "source": [
    "#2. Write a Python Program to Display the multiplication Table?\n",
    "\n",
    "#table of which number\n",
    "table_of = 9\n",
    "\n",
    "#till which number the table want \n",
    "till_where = 10\n",
    "\n",
    "#genrating the table \n",
    "if table_of >= 1 :\n",
    "\n",
    "    for i in range(1,till_where+1):\n",
    "        result = table_of * i\n",
    "        print(\"{0} x {1} = {2}\".format(table_of,i,result))\n",
    "else:\n",
    "    print(\"Anything multiplied by 0 is 0\")\n",
    "\n",
    "\n"
   ]
  },
  {
   "cell_type": "code",
   "execution_count": 12,
   "metadata": {},
   "outputs": [
    {
     "name": "stdout",
     "output_type": "stream",
     "text": [
      "0\n",
      "1\n",
      "1\n",
      "2\n",
      "3\n",
      "5\n",
      "8\n"
     ]
    }
   ],
   "source": [
    "#3. Write a Python Program to Print the Fibonacci sequence?\n",
    "\n",
    "'''\n",
    "Fibonacci sequence a series of numbers in which each number ( Fibonacci number ) is the sum of the two preceding numbers. \n",
    "The simplest is the series 1, 1, 2, 3, 5, 8, etc.\n",
    "\n",
    "'''\n",
    "\n",
    "# Defined two variables which will hold the initial two numbers\n",
    "a = 0\n",
    "b = 1\n",
    "\n",
    "#prininting those numbers \n",
    "print(a)\n",
    "print(b)\n",
    "\n",
    "#Generating the Fibonacci sequence\n",
    "for i  in range(5):\n",
    "    c = a+b\n",
    "    print(c)\n",
    "    a = b\n",
    "    b = c"
   ]
  },
  {
   "cell_type": "code",
   "execution_count": 18,
   "metadata": {},
   "outputs": [
    {
     "name": "stdout",
     "output_type": "stream",
     "text": [
      "371 is an Armstrong number\n"
     ]
    }
   ],
   "source": [
    "#4. Write a Python Program to Check Armstrong Number?\n",
    "\n",
    "'''\n",
    "Armstrong number is a number that is equal to the sum of cubes of its digits. For example 0, 1, 153, 370, 371 and 407 \n",
    "\n",
    "'''\n",
    "\n",
    "#Number to checked \n",
    "number = '371'\n",
    "\n",
    "#Calculating the sum of cube of all digits\n",
    "\n",
    "#Incremental vraible  \n",
    "armstrong = 0 \n",
    "for i in number:\n",
    "    armstrong = int(i) ** 3 + armstrong\n",
    "\n",
    "\n",
    "#Chexking the if number is Armstrong number or not\n",
    "if armstrong == int(number):\n",
    "    print(\"{0} is an Armstrong number\".format(number))\n",
    "else:\n",
    "    print(\"{0} is not an Armstrong number\".format(number))    "
   ]
  },
  {
   "cell_type": "code",
   "execution_count": 19,
   "metadata": {},
   "outputs": [
    {
     "name": "stdout",
     "output_type": "stream",
     "text": [
      "1 is an Armstrong number\n",
      "153 is an Armstrong number\n",
      "370 is an Armstrong number\n",
      "371 is an Armstrong number\n",
      "407 is an Armstrong number\n"
     ]
    }
   ],
   "source": [
    "#5. Write a Python Program to Find Armstrong Number in an Interval?\n",
    "\n",
    "# Checking the armstrong number between 1 to 1000 interval\n",
    "for number in range(1,1000):\n",
    "\n",
    "    number = str(number)\n",
    "\n",
    "    armstrong = 0   \n",
    "    for i in number:\n",
    "        armstrong = int(i) ** 3 + armstrong\n",
    "\n",
    "    if armstrong == int(number):\n",
    "        print(\"{0} is an Armstrong number\".format(number))\n",
    "    else:\n",
    "        pass \n"
   ]
  },
  {
   "cell_type": "code",
   "execution_count": 10,
   "metadata": {},
   "outputs": [],
   "source": [
    "#6. Write a Python Program to Find the Sum of Natural Numbers?\n",
    "\n",
    "def sum_of_natural_numbers(num):\n",
    "    try:\n",
    "        if num < 0:  \n",
    "            raise Exception('Error: Invalid input')\n",
    "        elif type(num) != int:\n",
    "            raise Exception('Error: Invalid input')\n",
    "        \n",
    "        j = 0\n",
    "\n",
    "        for i in range(num+1):\n",
    "            j = i + j\n",
    "        return f'Sum of first {num} natural numbers is {j}'\n",
    "    except Exception as e:\n",
    "        return e "
   ]
  },
  {
   "cell_type": "code",
   "execution_count": 11,
   "metadata": {},
   "outputs": [
    {
     "data": {
      "text/plain": [
       "'Sum of first 10 natural numbers is 55'"
      ]
     },
     "execution_count": 11,
     "metadata": {},
     "output_type": "execute_result"
    }
   ],
   "source": [
    "sum_of_natural_numbers(10)"
   ]
  }
 ],
 "metadata": {
  "kernelspec": {
   "display_name": "Python 3.8.10 64-bit",
   "language": "python",
   "name": "python3"
  },
  "language_info": {
   "codemirror_mode": {
    "name": "ipython",
    "version": 3
   },
   "file_extension": ".py",
   "mimetype": "text/x-python",
   "name": "python",
   "nbconvert_exporter": "python",
   "pygments_lexer": "ipython3",
   "version": "3.8.10"
  },
  "orig_nbformat": 4,
  "vscode": {
   "interpreter": {
    "hash": "e7370f93d1d0cde622a1f8e1c04877d8463912d04d973331ad4851f04de6915a"
   }
  }
 },
 "nbformat": 4,
 "nbformat_minor": 2
}
